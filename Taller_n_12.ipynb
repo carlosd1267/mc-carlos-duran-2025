{
  "nbformat": 4,
  "nbformat_minor": 0,
  "metadata": {
    "colab": {
      "provenance": []
    },
    "kernelspec": {
      "name": "python3",
      "display_name": "Python 3"
    },
    "language_info": {
      "name": "python"
    }
  },
  "cells": [
    {
      "cell_type": "code",
      "execution_count": 1,
      "metadata": {
        "colab": {
          "base_uri": "https://localhost:8080/"
        },
        "id": "r-Cq4zKke2Gj",
        "outputId": "ce512f5a-128b-4fbc-c949-dcfbe37e0878"
      },
      "outputs": [
        {
          "output_type": "stream",
          "name": "stdout",
          "text": [
            "Orden           Aprox       Error (%)\n",
            "----------------------------------------\n",
            "    0    0.4493289641    0.5012520859\n",
            "    1    0.4470823193    0.0012541745\n",
            "    2    0.4470879359    0.0000020912\n",
            "    3    0.4470879265    0.0000000026\n",
            "    4    0.4470879266    0.0000000000\n",
            "    5    0.4470879266    0.0000000000\n",
            "    6    0.4470879266    0.0000000000\n",
            "    7    0.4470879266    0.0000000000\n",
            "    8    0.4470879266    0.0000000000\n",
            "    9    0.4470879266    0.0000000000\n",
            "   10    0.4470879266    0.0000000000\n",
            "   11    0.4470879266    0.0000000000\n",
            "   12    0.4470879266    0.0000000000\n",
            "   13    0.4470879266    0.0000000000\n",
            "   14    0.4470879266    0.0000000000\n",
            "   15    0.4470879266    0.0000000000\n"
          ]
        }
      ],
      "source": [
        "import math\n",
        "x0 = 0.8\n",
        "x = 0.805\n",
        "true_value = math.exp(-x)\n",
        "\n",
        "print(f\"{'Orden':>5} {'Aprox':>15} {'Error (%)':>15}\")\n",
        "print(\"-\" * 40)\n",
        "\n",
        "# Calcular estimaciones de orden 0 a 15\n",
        "for n in range(16):\n",
        "    taylor_sum = 0\n",
        "    for k in range(n + 1):\n",
        "        term = ((-1)**k * math.exp(-x0) * (x - x0)**k) / math.factorial(k)\n",
        "        taylor_sum += term\n",
        "    error = abs((true_value - taylor_sum) / true_value) * 100\n",
        "    print(f\"{n:>5} {taylor_sum:>15.10f} {error:>15.10f}\")\n"
      ]
    }
  ]
}